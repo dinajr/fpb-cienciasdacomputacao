{
  "nbformat": 4,
  "nbformat_minor": 0,
  "metadata": {
    "colab": {
      "provenance": [],
      "authorship_tag": "ABX9TyOW0/3ArQ+V8bnA3c/eQ2RZ",
      "include_colab_link": true
    },
    "kernelspec": {
      "name": "python3",
      "display_name": "Python 3"
    },
    "language_info": {
      "name": "python"
    }
  },
  "cells": [
    {
      "cell_type": "markdown",
      "metadata": {
        "id": "view-in-github",
        "colab_type": "text"
      },
      "source": [
        "<a href=\"https://colab.research.google.com/github/dinajr/fpb-cienciasdacomputacao/blob/main/untitled0.ipynb\" target=\"_parent\"><img src=\"https://colab.research.google.com/assets/colab-badge.svg\" alt=\"Open In Colab\"/></a>"
      ]
    },
    {
      "cell_type": "code",
      "execution_count": null,
      "metadata": {
        "colab": {
          "base_uri": "https://localhost:8080/"
        },
        "id": "kReMBTj68K60",
        "outputId": "2e84788e-6491-4e0e-fd63-50256a1e8aa7"
      },
      "outputs": [
        {
          "output_type": "stream",
          "name": "stdout",
          "text": [
            "[3, 0, 4, 1, 3, 8, 7, 1, 8, 0]\n",
            "3\n"
          ]
        }
      ],
      "source": [
        "import random\n",
        "conta = 10\n",
        "num = []\n",
        "while conta > 0:\n",
        "  num.append(random.randint(0,10))\n",
        "  conta = conta - 1\n",
        "print(num)\n",
        "\n",
        "len(num)\n",
        "\n",
        "print(num[0])\n"
      ]
    },
    {
      "cell_type": "code",
      "source": [
        "alunos = ['Jacinto', 'Josuares', 'Santiago', 'Dio']\n",
        "print(alunos)\n",
        "alunos[3] = 'DIO'\n",
        "print(alunos)\n",
        "alunos.append(input(\"coloque aluno: \"))\n",
        "print(alunos)\n",
        "alunos.remove(input(\"Escolha aluno para matar: \\n\"))\n",
        "nome = input(\"Digite um nome\")\n",
        "if nome in alunos:\n",
        "  print(\"Tem \" + nome)\n",
        "else:\n",
        "  print(\"Não tem \" + nome)\n",
        "del alunos[0]\n",
        "print(alunos)"
      ],
      "metadata": {
        "id": "vdPP--Dx_GEs"
      },
      "execution_count": null,
      "outputs": []
    },
    {
      "cell_type": "code",
      "source": [
        "numeros = []\n",
        "for num in range(15):\n",
        "  numeros.append(num)\n",
        "print(numeros)\n",
        "dobro = []\n",
        "for num in numeros:\n",
        "  dobro.append(num*2)\n",
        "print(dobro)\n",
        "nums = numeros\n",
        "for num in numeros:\n",
        "  if num%2 == 0:\n",
        "    pass\n",
        "  else:\n",
        "    numeros.remove(num)\n",
        "print(numeros)\n",
        "for num in nums:\n",
        "  if nums[num]%2 == 0:\n",
        "    print(nums[num])\n",
        "\n"
      ],
      "metadata": {
        "colab": {
          "base_uri": "https://localhost:8080/",
          "height": 366
        },
        "id": "VsohA75gNn2-",
        "outputId": "38a91003-bd92-4c0b-e156-0d80cb61784d"
      },
      "execution_count": 13,
      "outputs": [
        {
          "output_type": "stream",
          "name": "stdout",
          "text": [
            "[0, 1, 2, 3, 4, 5, 6, 7, 8, 9, 10, 11, 12, 13, 14]\n",
            "[0, 2, 4, 6, 8, 10, 12, 14, 16, 18, 20, 22, 24, 26, 28]\n",
            "[0, 2, 4, 6, 8, 10, 12, 14]\n",
            "0\n",
            "4\n",
            "8\n",
            "12\n"
          ]
        },
        {
          "output_type": "error",
          "ename": "IndexError",
          "evalue": "ignored",
          "traceback": [
            "\u001b[0;31m---------------------------------------------------------------------------\u001b[0m",
            "\u001b[0;31mIndexError\u001b[0m                                Traceback (most recent call last)",
            "\u001b[0;32m<ipython-input-13-c0cf168a32d2>\u001b[0m in \u001b[0;36m<module>\u001b[0;34m\u001b[0m\n\u001b[1;32m     15\u001b[0m \u001b[0mprint\u001b[0m\u001b[0;34m(\u001b[0m\u001b[0mnumeros\u001b[0m\u001b[0;34m)\u001b[0m\u001b[0;34m\u001b[0m\u001b[0;34m\u001b[0m\u001b[0m\n\u001b[1;32m     16\u001b[0m \u001b[0;32mfor\u001b[0m \u001b[0mnum\u001b[0m \u001b[0;32min\u001b[0m \u001b[0mnums\u001b[0m\u001b[0;34m:\u001b[0m\u001b[0;34m\u001b[0m\u001b[0;34m\u001b[0m\u001b[0m\n\u001b[0;32m---> 17\u001b[0;31m   \u001b[0;32mif\u001b[0m \u001b[0;34m(\u001b[0m\u001b[0mnums\u001b[0m\u001b[0;34m[\u001b[0m\u001b[0mnum\u001b[0m\u001b[0;34m]\u001b[0m\u001b[0;34m)\u001b[0m\u001b[0;34m%\u001b[0m\u001b[0;36m2\u001b[0m \u001b[0;34m==\u001b[0m \u001b[0;36m0\u001b[0m\u001b[0;34m:\u001b[0m\u001b[0;34m\u001b[0m\u001b[0;34m\u001b[0m\u001b[0m\n\u001b[0m\u001b[1;32m     18\u001b[0m     \u001b[0mprint\u001b[0m\u001b[0;34m(\u001b[0m\u001b[0mnums\u001b[0m\u001b[0;34m[\u001b[0m\u001b[0mnum\u001b[0m\u001b[0;34m]\u001b[0m\u001b[0;34m)\u001b[0m\u001b[0;34m\u001b[0m\u001b[0;34m\u001b[0m\u001b[0m\n\u001b[1;32m     19\u001b[0m \u001b[0;34m\u001b[0m\u001b[0m\n",
            "\u001b[0;31mIndexError\u001b[0m: list index out of range"
          ]
        }
      ]
    },
    {
      "cell_type": "code",
      "source": [],
      "metadata": {
        "id": "i1sQDAIjTpad"
      },
      "execution_count": null,
      "outputs": []
    }
  ]
}