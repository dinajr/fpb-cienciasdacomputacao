{
  "nbformat": 4,
  "nbformat_minor": 0,
  "metadata": {
    "colab": {
      "provenance": []
    },
    "kernelspec": {
      "name": "python3",
      "display_name": "Python 3"
    },
    "language_info": {
      "name": "python"
    }
  },
  "cells": [
    {
      "cell_type": "code",
      "execution_count": 3,
      "metadata": {
        "colab": {
          "base_uri": "https://localhost:8080/"
        },
        "id": "KZVwKUSXBt-I",
        "outputId": "9710efa1-4493-4a0e-f13c-9a9722a8a989"
      },
      "outputs": [
        {
          "output_type": "stream",
          "name": "stdout",
          "text": [
            "Meow\n"
          ]
        }
      ],
      "source": [
        "print(\"Meow\")"
      ]
    },
    {
      "cell_type": "code",
      "source": [
        "import random \n",
        "\n",
        "nome = chr(random.randint(65, 89))\n",
        "conta = random.randint(2, 10)\n",
        "while conta >= 0:\n",
        "  letra = chr(random.randint(97, 122))\n",
        "  nome += letra\n",
        "  conta -= 1\n",
        "\n",
        "\n",
        "\n",
        "print(nome)\n",
        "\n",
        "#type(nome)"
      ],
      "metadata": {
        "colab": {
          "base_uri": "https://localhost:8080/"
        },
        "id": "VeX7CEVyCRbb",
        "outputId": "d6fca8a2-1673-42ec-cc3a-143e9efab9cd"
      },
      "execution_count": 195,
      "outputs": [
        {
          "output_type": "stream",
          "name": "stdout",
          "text": [
            "Seuhyxnatc\n"
          ]
        }
      ]
    },
    {
      "cell_type": "code",
      "source": [
        "nota = random.randint(0,10)\n",
        "if nota >= 7:\n",
        "  print(\"Aprovado\")\n",
        "else:\n",
        "  if nota >=4:\n",
        "    print(\"Recuperação\")\n",
        "  else:\n",
        "    print(\"Reprovado\")"
      ],
      "metadata": {
        "colab": {
          "base_uri": "https://localhost:8080/"
        },
        "id": "vBjglgRCF-gs",
        "outputId": "da7ab0ce-cb34-4fd4-dcac-6557d3dd5444"
      },
      "execution_count": 170,
      "outputs": [
        {
          "output_type": "stream",
          "name": "stdout",
          "text": [
            "Reprovado\n"
          ]
        }
      ]
    },
    {
      "cell_type": "code",
      "source": [
        "nota = input()\n",
        "\n",
        "if nota >= 7:\n",
        "  print(\"Aprovado\")\n",
        "elif(nota >= 4 and nota < 7):\n",
        "  print(\"Recuperação\")\n",
        "else:\n",
        "  print(\"Reprovado\")"
      ],
      "metadata": {
        "colab": {
          "base_uri": "https://localhost:8080/"
        },
        "id": "w867QMG6SYYm",
        "outputId": "b23978b8-e1e9-4ea8-fcb5-6a01d38e4700"
      },
      "execution_count": 185,
      "outputs": [
        {
          "output_type": "stream",
          "name": "stdout",
          "text": [
            "43\n",
            "43.0\n",
            "Aprovado\n"
          ]
        }
      ]
    },
    {
      "cell_type": "code",
      "source": [
        "nota1 = input(\"nota1: \")\n",
        "nota2 = input(\"nota2: \")\n",
        "print(nota1+nota2)"
      ],
      "metadata": {
        "colab": {
          "base_uri": "https://localhost:8080/"
        },
        "id": "Kp3pLE0yUtEd",
        "outputId": "98e4fc59-8999-4ca1-c96f-f5efeae0b316"
      },
      "execution_count": 190,
      "outputs": [
        {
          "output_type": "stream",
          "name": "stdout",
          "text": [
            "nota1: 4\n",
            "nota2: 4\n",
            "44\n"
          ]
        }
      ]
    },
    {
      "cell_type": "code",
      "source": [
        "nota1 = float(input(\"nota1: \"))\n",
        "nota2 = float(input(\"nota2: \"))\n",
        "nota3 = float(input(\"nota3: \"))\n",
        "media = (nota1+nota2+nota3) / 3\n",
        "print(media)\n",
        "if media >= 7:\n",
        "  print(\"Aprovado\")\n",
        "elif(media >= 4 and media < 7):\n",
        "  print(\"Recuperação\")\n",
        "else:\n",
        "  print(\"Reprovado\")"
      ],
      "metadata": {
        "colab": {
          "base_uri": "https://localhost:8080/"
        },
        "id": "0CjG6OIeVKZT",
        "outputId": "3dd99510-aa4e-42d7-dcef-8174221fecae"
      },
      "execution_count": 189,
      "outputs": [
        {
          "output_type": "stream",
          "name": "stdout",
          "text": [
            "nota1: 4\n",
            "nota2: 6\n",
            "nota3: 10\n",
            "6.666666666666667\n",
            "Recuperação\n"
          ]
        }
      ]
    }
  ]
}